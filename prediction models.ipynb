{
 "cells": [
  {
   "cell_type": "code",
   "execution_count": 1,
   "id": "33542675",
   "metadata": {},
   "outputs": [],
   "source": [
    "# Group members\n",
    "\n",
    "### KYOBE GEOFREY KIMULI - 2100716219 - 21/U/16219/EVE\n",
    "### KAMUSIIME DAISY - 21007095950 - 21/U/05950/EVE\n",
    "### NATUHWERA FRANCIS - 2100707319 - 21/U/07319/EVE\n",
    "### KEMBABAZI SANDRA AINE - 2100712149 - 21/U/12149/PS\n",
    "### MCJORDAN BISMARK - 2100705192 - 21/U/05192/EVE"
   ]
  },
  {
   "cell_type": "markdown",
   "id": "0d759def",
   "metadata": {},
   "source": [
    "# Real / Fake Job postings prediction dataset\n",
    "\n",
    "The dataset contains almost 18,000 job postings out of which almost 900 are fake. It contains textual and meta information about the jobs. The objective is to develop a model that can distinguish between real and fake job postings based on the available data. We built and trained models and on evaluation of their performance metrics, we chose the best performer and proceeded to further tune it. \n",
    "Link to dataset: https://www.kaggle.com/datasets/shivamb/real-or-fake-fake-jobposting-prediction\n",
    "The overall goal is to develop  a model that can accurately classify job postings as real or fake,thereby preventigng fradulent activities in the job market.\n",
    " \n",
    "## Step 1: Data description"
   ]
  },
  {
   "cell_type": "code",
   "execution_count": 1,
   "id": "1f92fd83",
   "metadata": {},
   "outputs": [
    {
     "data": {
      "text/html": [
       "<div>\n",
       "<style scoped>\n",
       "    .dataframe tbody tr th:only-of-type {\n",
       "        vertical-align: middle;\n",
       "    }\n",
       "\n",
       "    .dataframe tbody tr th {\n",
       "        vertical-align: top;\n",
       "    }\n",
       "\n",
       "    .dataframe thead th {\n",
       "        text-align: right;\n",
       "    }\n",
       "</style>\n",
       "<table border=\"1\" class=\"dataframe\">\n",
       "  <thead>\n",
       "    <tr style=\"text-align: right;\">\n",
       "      <th></th>\n",
       "      <th>job_id</th>\n",
       "      <th>title</th>\n",
       "      <th>location</th>\n",
       "      <th>department</th>\n",
       "      <th>salary_range</th>\n",
       "      <th>company_profile</th>\n",
       "      <th>description</th>\n",
       "      <th>requirements</th>\n",
       "      <th>benefits</th>\n",
       "      <th>telecommuting</th>\n",
       "      <th>has_company_logo</th>\n",
       "      <th>has_questions</th>\n",
       "      <th>employment_type</th>\n",
       "      <th>required_experience</th>\n",
       "      <th>required_education</th>\n",
       "      <th>industry</th>\n",
       "      <th>function</th>\n",
       "      <th>fraudulent</th>\n",
       "    </tr>\n",
       "  </thead>\n",
       "  <tbody>\n",
       "    <tr>\n",
       "      <th>0</th>\n",
       "      <td>1</td>\n",
       "      <td>Marketing Intern</td>\n",
       "      <td>US, NY, New York</td>\n",
       "      <td>Marketing</td>\n",
       "      <td>NaN</td>\n",
       "      <td>We're Food52, and we've created a groundbreaki...</td>\n",
       "      <td>Food52, a fast-growing, James Beard Award-winn...</td>\n",
       "      <td>Experience with content management systems a m...</td>\n",
       "      <td>NaN</td>\n",
       "      <td>0</td>\n",
       "      <td>1</td>\n",
       "      <td>0</td>\n",
       "      <td>Other</td>\n",
       "      <td>Internship</td>\n",
       "      <td>NaN</td>\n",
       "      <td>NaN</td>\n",
       "      <td>Marketing</td>\n",
       "      <td>0</td>\n",
       "    </tr>\n",
       "    <tr>\n",
       "      <th>1</th>\n",
       "      <td>2</td>\n",
       "      <td>Customer Service - Cloud Video Production</td>\n",
       "      <td>NZ, , Auckland</td>\n",
       "      <td>Success</td>\n",
       "      <td>NaN</td>\n",
       "      <td>90 Seconds, the worlds Cloud Video Production ...</td>\n",
       "      <td>Organised - Focused - Vibrant - Awesome!Do you...</td>\n",
       "      <td>What we expect from you:Your key responsibilit...</td>\n",
       "      <td>What you will get from usThrough being part of...</td>\n",
       "      <td>0</td>\n",
       "      <td>1</td>\n",
       "      <td>0</td>\n",
       "      <td>Full-time</td>\n",
       "      <td>Not Applicable</td>\n",
       "      <td>NaN</td>\n",
       "      <td>Marketing and Advertising</td>\n",
       "      <td>Customer Service</td>\n",
       "      <td>0</td>\n",
       "    </tr>\n",
       "    <tr>\n",
       "      <th>2</th>\n",
       "      <td>3</td>\n",
       "      <td>Commissioning Machinery Assistant (CMA)</td>\n",
       "      <td>US, IA, Wever</td>\n",
       "      <td>NaN</td>\n",
       "      <td>NaN</td>\n",
       "      <td>Valor Services provides Workforce Solutions th...</td>\n",
       "      <td>Our client, located in Houston, is actively se...</td>\n",
       "      <td>Implement pre-commissioning and commissioning ...</td>\n",
       "      <td>NaN</td>\n",
       "      <td>0</td>\n",
       "      <td>1</td>\n",
       "      <td>0</td>\n",
       "      <td>NaN</td>\n",
       "      <td>NaN</td>\n",
       "      <td>NaN</td>\n",
       "      <td>NaN</td>\n",
       "      <td>NaN</td>\n",
       "      <td>0</td>\n",
       "    </tr>\n",
       "    <tr>\n",
       "      <th>3</th>\n",
       "      <td>4</td>\n",
       "      <td>Account Executive - Washington DC</td>\n",
       "      <td>US, DC, Washington</td>\n",
       "      <td>Sales</td>\n",
       "      <td>NaN</td>\n",
       "      <td>Our passion for improving quality of life thro...</td>\n",
       "      <td>THE COMPANY: ESRI – Environmental Systems Rese...</td>\n",
       "      <td>EDUCATION: Bachelor’s or Master’s in GIS, busi...</td>\n",
       "      <td>Our culture is anything but corporate—we have ...</td>\n",
       "      <td>0</td>\n",
       "      <td>1</td>\n",
       "      <td>0</td>\n",
       "      <td>Full-time</td>\n",
       "      <td>Mid-Senior level</td>\n",
       "      <td>Bachelor's Degree</td>\n",
       "      <td>Computer Software</td>\n",
       "      <td>Sales</td>\n",
       "      <td>0</td>\n",
       "    </tr>\n",
       "    <tr>\n",
       "      <th>4</th>\n",
       "      <td>5</td>\n",
       "      <td>Bill Review Manager</td>\n",
       "      <td>US, FL, Fort Worth</td>\n",
       "      <td>NaN</td>\n",
       "      <td>NaN</td>\n",
       "      <td>SpotSource Solutions LLC is a Global Human Cap...</td>\n",
       "      <td>JOB TITLE: Itemization Review ManagerLOCATION:...</td>\n",
       "      <td>QUALIFICATIONS:RN license in the State of Texa...</td>\n",
       "      <td>Full Benefits Offered</td>\n",
       "      <td>0</td>\n",
       "      <td>1</td>\n",
       "      <td>1</td>\n",
       "      <td>Full-time</td>\n",
       "      <td>Mid-Senior level</td>\n",
       "      <td>Bachelor's Degree</td>\n",
       "      <td>Hospital &amp; Health Care</td>\n",
       "      <td>Health Care Provider</td>\n",
       "      <td>0</td>\n",
       "    </tr>\n",
       "  </tbody>\n",
       "</table>\n",
       "</div>"
      ],
      "text/plain": [
       "   job_id                                      title            location  \\\n",
       "0       1                           Marketing Intern    US, NY, New York   \n",
       "1       2  Customer Service - Cloud Video Production      NZ, , Auckland   \n",
       "2       3    Commissioning Machinery Assistant (CMA)       US, IA, Wever   \n",
       "3       4          Account Executive - Washington DC  US, DC, Washington   \n",
       "4       5                        Bill Review Manager  US, FL, Fort Worth   \n",
       "\n",
       "  department salary_range                                    company_profile  \\\n",
       "0  Marketing          NaN  We're Food52, and we've created a groundbreaki...   \n",
       "1    Success          NaN  90 Seconds, the worlds Cloud Video Production ...   \n",
       "2        NaN          NaN  Valor Services provides Workforce Solutions th...   \n",
       "3      Sales          NaN  Our passion for improving quality of life thro...   \n",
       "4        NaN          NaN  SpotSource Solutions LLC is a Global Human Cap...   \n",
       "\n",
       "                                         description  \\\n",
       "0  Food52, a fast-growing, James Beard Award-winn...   \n",
       "1  Organised - Focused - Vibrant - Awesome!Do you...   \n",
       "2  Our client, located in Houston, is actively se...   \n",
       "3  THE COMPANY: ESRI – Environmental Systems Rese...   \n",
       "4  JOB TITLE: Itemization Review ManagerLOCATION:...   \n",
       "\n",
       "                                        requirements  \\\n",
       "0  Experience with content management systems a m...   \n",
       "1  What we expect from you:Your key responsibilit...   \n",
       "2  Implement pre-commissioning and commissioning ...   \n",
       "3  EDUCATION: Bachelor’s or Master’s in GIS, busi...   \n",
       "4  QUALIFICATIONS:RN license in the State of Texa...   \n",
       "\n",
       "                                            benefits  telecommuting  \\\n",
       "0                                                NaN              0   \n",
       "1  What you will get from usThrough being part of...              0   \n",
       "2                                                NaN              0   \n",
       "3  Our culture is anything but corporate—we have ...              0   \n",
       "4                              Full Benefits Offered              0   \n",
       "\n",
       "   has_company_logo  has_questions employment_type required_experience  \\\n",
       "0                 1              0           Other          Internship   \n",
       "1                 1              0       Full-time      Not Applicable   \n",
       "2                 1              0             NaN                 NaN   \n",
       "3                 1              0       Full-time    Mid-Senior level   \n",
       "4                 1              1       Full-time    Mid-Senior level   \n",
       "\n",
       "  required_education                   industry              function  \\\n",
       "0                NaN                        NaN             Marketing   \n",
       "1                NaN  Marketing and Advertising      Customer Service   \n",
       "2                NaN                        NaN                   NaN   \n",
       "3  Bachelor's Degree          Computer Software                 Sales   \n",
       "4  Bachelor's Degree     Hospital & Health Care  Health Care Provider   \n",
       "\n",
       "   fraudulent  \n",
       "0           0  \n",
       "1           0  \n",
       "2           0  \n",
       "3           0  \n",
       "4           0  "
      ]
     },
     "execution_count": 1,
     "metadata": {},
     "output_type": "execute_result"
    }
   ],
   "source": [
    "import pandas as pd \n",
    "import numpy as np\n",
    "import matplotlib.pyplot as plt\n",
    "import seaborn as sns\n",
    "import string\n",
    "\n",
    "df = pd.read_csv('postings.csv')\n",
    "df.head()"
   ]
  },
  {
   "cell_type": "markdown",
   "id": "ddb59d69",
   "metadata": {},
   "source": [
    "### Dataset insights"
   ]
  },
  {
   "cell_type": "code",
   "execution_count": 2,
   "id": "fa328e99",
   "metadata": {},
   "outputs": [
    {
     "name": "stdout",
     "output_type": "stream",
     "text": [
      "<class 'pandas.core.frame.DataFrame'>\n",
      "RangeIndex: 17880 entries, 0 to 17879\n",
      "Data columns (total 18 columns):\n",
      " #   Column               Non-Null Count  Dtype \n",
      "---  ------               --------------  ----- \n",
      " 0   job_id               17880 non-null  int64 \n",
      " 1   title                17880 non-null  object\n",
      " 2   location             17534 non-null  object\n",
      " 3   department           6333 non-null   object\n",
      " 4   salary_range         2868 non-null   object\n",
      " 5   company_profile      14572 non-null  object\n",
      " 6   description          17879 non-null  object\n",
      " 7   requirements         15185 non-null  object\n",
      " 8   benefits             10670 non-null  object\n",
      " 9   telecommuting        17880 non-null  int64 \n",
      " 10  has_company_logo     17880 non-null  int64 \n",
      " 11  has_questions        17880 non-null  int64 \n",
      " 12  employment_type      14409 non-null  object\n",
      " 13  required_experience  10830 non-null  object\n",
      " 14  required_education   9775 non-null   object\n",
      " 15  industry             12977 non-null  object\n",
      " 16  function             11425 non-null  object\n",
      " 17  fraudulent           17880 non-null  int64 \n",
      "dtypes: int64(5), object(13)\n",
      "memory usage: 2.5+ MB\n"
     ]
    },
    {
     "data": {
      "text/plain": [
       "job_id                  int64\n",
       "title                  object\n",
       "location               object\n",
       "department             object\n",
       "salary_range           object\n",
       "company_profile        object\n",
       "description            object\n",
       "requirements           object\n",
       "benefits               object\n",
       "telecommuting           int64\n",
       "has_company_logo        int64\n",
       "has_questions           int64\n",
       "employment_type        object\n",
       "required_experience    object\n",
       "required_education     object\n",
       "industry               object\n",
       "function               object\n",
       "fraudulent              int64\n",
       "dtype: object"
      ]
     },
     "execution_count": 2,
     "metadata": {},
     "output_type": "execute_result"
    }
   ],
   "source": [
    "df.describe()\n",
    "df.info()\n",
    "df.dtypes"
   ]
  },
  {
   "cell_type": "code",
   "execution_count": 3,
   "id": "57e66abd",
   "metadata": {},
   "outputs": [
    {
     "data": {
      "text/plain": [
       "job_id                     0\n",
       "title                      0\n",
       "location                 346\n",
       "department             11547\n",
       "salary_range           15012\n",
       "company_profile         3308\n",
       "description                1\n",
       "requirements            2695\n",
       "benefits                7210\n",
       "telecommuting              0\n",
       "has_company_logo           0\n",
       "has_questions              0\n",
       "employment_type         3471\n",
       "required_experience     7050\n",
       "required_education      8105\n",
       "industry                4903\n",
       "function                6455\n",
       "fraudulent                 0\n",
       "dtype: int64"
      ]
     },
     "execution_count": 3,
     "metadata": {},
     "output_type": "execute_result"
    }
   ],
   "source": [
    "df.isnull().sum()"
   ]
  },
  {
   "cell_type": "code",
   "execution_count": 4,
   "id": "e1215e6b",
   "metadata": {},
   "outputs": [
    {
     "data": {
      "text/plain": [
       "Index(['job_id', 'title', 'location', 'department', 'salary_range',\n",
       "       'company_profile', 'description', 'requirements', 'benefits',\n",
       "       'telecommuting', 'has_company_logo', 'has_questions', 'employment_type',\n",
       "       'required_experience', 'required_education', 'industry', 'function',\n",
       "       'fraudulent'],\n",
       "      dtype='object')"
      ]
     },
     "execution_count": 4,
     "metadata": {},
     "output_type": "execute_result"
    }
   ],
   "source": [
    "df.columns"
   ]
  },
  {
   "cell_type": "code",
   "execution_count": 5,
   "id": "56795823",
   "metadata": {},
   "outputs": [
    {
     "data": {
      "text/plain": [
       "(17880, 18)"
      ]
     },
     "execution_count": 5,
     "metadata": {},
     "output_type": "execute_result"
    }
   ],
   "source": [
    "df.shape"
   ]
  },
  {
   "cell_type": "code",
   "execution_count": 6,
   "id": "227ec87e",
   "metadata": {},
   "outputs": [
    {
     "data": {
      "text/plain": [
       "array([[<AxesSubplot:title={'center':'job_id'}>,\n",
       "        <AxesSubplot:title={'center':'telecommuting'}>],\n",
       "       [<AxesSubplot:title={'center':'has_company_logo'}>,\n",
       "        <AxesSubplot:title={'center':'has_questions'}>],\n",
       "       [<AxesSubplot:title={'center':'fraudulent'}>, <AxesSubplot:>]],\n",
       "      dtype=object)"
      ]
     },
     "execution_count": 6,
     "metadata": {},
     "output_type": "execute_result"
    },
    {
     "data": {
      "image/png": "[encoded data removed]",
      "text/plain": [
       "<Figure size 864x648 with 6 Axes>"
      ]
     },
     "metadata": {
      "needs_background": "light"
     },
     "output_type": "display_data"
    }
   ],
   "source": [
    "#Histogram for the data\n",
    "df.hist(figsize=(12,9))"
   ]
  },
  {
   "cell_type": "code",
   "execution_count": 7,
   "id": "8075e253",
   "metadata": {},
   "outputs": [
    {
     "data": {
      "text/plain": [
       "<AxesSubplot:>"
      ]
     },
     "execution_count": 7,
     "metadata": {},
     "output_type": "execute_result"
    },
    {
     "data": {
      "image/png": "[encoded data removed]",
      "text/plain": [
       "<Figure size 432x288 with 2 Axes>"
      ]
     },
     "metadata": {
      "needs_background": "light"
     },
     "output_type": "display_data"
    }
   ],
   "source": [
    "#Correlation matrix for num vars\n",
    "corr_matx = df.corr()\n",
    "#Heatmap for the corr matrix\n",
    "import seaborn as sns\n",
    "sns.heatmap(corr_matx, annot=True, cmap='coolwarm')"
   ]
  },
  {
   "cell_type": "code",
   "execution_count": 8,
   "id": "dbf01c41",
   "metadata": {},
   "outputs": [
    {
     "data": {
      "text/html": [
       "<div>\n",
       "<style scoped>\n",
       "    .dataframe tbody tr th:only-of-type {\n",
       "        vertical-align: middle;\n",
       "    }\n",
       "\n",
       "    .dataframe tbody tr th {\n",
       "        vertical-align: top;\n",
       "    }\n",
       "\n",
       "    .dataframe thead th {\n",
       "        text-align: right;\n",
       "    }\n",
       "</style>\n",
       "<table border=\"1\" class=\"dataframe\">\n",
       "  <thead>\n",
       "    <tr style=\"text-align: right;\">\n",
       "      <th></th>\n",
       "      <th>title</th>\n",
       "      <th>location</th>\n",
       "      <th>department</th>\n",
       "      <th>company_profile</th>\n",
       "      <th>description</th>\n",
       "      <th>requirements</th>\n",
       "      <th>benefits</th>\n",
       "      <th>employment_type</th>\n",
       "      <th>required_experience</th>\n",
       "      <th>required_education</th>\n",
       "      <th>industry</th>\n",
       "      <th>function</th>\n",
       "      <th>fraudulent</th>\n",
       "    </tr>\n",
       "  </thead>\n",
       "  <tbody>\n",
       "    <tr>\n",
       "      <th>0</th>\n",
       "      <td>Marketing Intern</td>\n",
       "      <td>US, NY, New York</td>\n",
       "      <td>Marketing</td>\n",
       "      <td>We're Food52, and we've created a groundbreaki...</td>\n",
       "      <td>Food52, a fast-growing, James Beard Award-winn...</td>\n",
       "      <td>Experience with content management systems a m...</td>\n",
       "      <td>NaN</td>\n",
       "      <td>Other</td>\n",
       "      <td>Internship</td>\n",
       "      <td>NaN</td>\n",
       "      <td>NaN</td>\n",
       "      <td>Marketing</td>\n",
       "      <td>0</td>\n",
       "    </tr>\n",
       "    <tr>\n",
       "      <th>1</th>\n",
       "      <td>Customer Service - Cloud Video Production</td>\n",
       "      <td>NZ, , Auckland</td>\n",
       "      <td>Success</td>\n",
       "      <td>90 Seconds, the worlds Cloud Video Production ...</td>\n",
       "      <td>Organised - Focused - Vibrant - Awesome!Do you...</td>\n",
       "      <td>What we expect from you:Your key responsibilit...</td>\n",
       "      <td>What you will get from usThrough being part of...</td>\n",
       "      <td>Full-time</td>\n",
       "      <td>Not Applicable</td>\n",
       "      <td>NaN</td>\n",
       "      <td>Marketing and Advertising</td>\n",
       "      <td>Customer Service</td>\n",
       "      <td>0</td>\n",
       "    </tr>\n",
       "    <tr>\n",
       "      <th>2</th>\n",
       "      <td>Commissioning Machinery Assistant (CMA)</td>\n",
       "      <td>US, IA, Wever</td>\n",
       "      <td>NaN</td>\n",
       "      <td>Valor Services provides Workforce Solutions th...</td>\n",
       "      <td>Our client, located in Houston, is actively se...</td>\n",
       "      <td>Implement pre-commissioning and commissioning ...</td>\n",
       "      <td>NaN</td>\n",
       "      <td>NaN</td>\n",
       "      <td>NaN</td>\n",
       "      <td>NaN</td>\n",
       "      <td>NaN</td>\n",
       "      <td>NaN</td>\n",
       "      <td>0</td>\n",
       "    </tr>\n",
       "    <tr>\n",
       "      <th>3</th>\n",
       "      <td>Account Executive - Washington DC</td>\n",
       "      <td>US, DC, Washington</td>\n",
       "      <td>Sales</td>\n",
       "      <td>Our passion for improving quality of life thro...</td>\n",
       "      <td>THE COMPANY: ESRI – Environmental Systems Rese...</td>\n",
       "      <td>EDUCATION: Bachelor’s or Master’s in GIS, busi...</td>\n",
       "      <td>Our culture is anything but corporate—we have ...</td>\n",
       "      <td>Full-time</td>\n",
       "      <td>Mid-Senior level</td>\n",
       "      <td>Bachelor's Degree</td>\n",
       "      <td>Computer Software</td>\n",
       "      <td>Sales</td>\n",
       "      <td>0</td>\n",
       "    </tr>\n",
       "    <tr>\n",
       "      <th>4</th>\n",
       "      <td>Bill Review Manager</td>\n",
       "      <td>US, FL, Fort Worth</td>\n",
       "      <td>NaN</td>\n",
       "      <td>SpotSource Solutions LLC is a Global Human Cap...</td>\n",
       "      <td>JOB TITLE: Itemization Review ManagerLOCATION:...</td>\n",
       "      <td>QUALIFICATIONS:RN license in the State of Texa...</td>\n",
       "      <td>Full Benefits Offered</td>\n",
       "      <td>Full-time</td>\n",
       "      <td>Mid-Senior level</td>\n",
       "      <td>Bachelor's Degree</td>\n",
       "      <td>Hospital &amp; Health Care</td>\n",
       "      <td>Health Care Provider</td>\n",
       "      <td>0</td>\n",
       "    </tr>\n",
       "  </tbody>\n",
       "</table>\n",
       "</div>"
      ],
      "text/plain": [
       "                                       title            location department  \\\n",
       "0                           Marketing Intern    US, NY, New York  Marketing   \n",
       "1  Customer Service - Cloud Video Production      NZ, , Auckland    Success   \n",
       "2    Commissioning Machinery Assistant (CMA)       US, IA, Wever        NaN   \n",
       "3          Account Executive - Washington DC  US, DC, Washington      Sales   \n",
       "4                        Bill Review Manager  US, FL, Fort Worth        NaN   \n",
       "\n",
       "                                     company_profile  \\\n",
       "0  We're Food52, and we've created a groundbreaki...   \n",
       "1  90 Seconds, the worlds Cloud Video Production ...   \n",
       "2  Valor Services provides Workforce Solutions th...   \n",
       "3  Our passion for improving quality of life thro...   \n",
       "4  SpotSource Solutions LLC is a Global Human Cap...   \n",
       "\n",
       "                                         description  \\\n",
       "0  Food52, a fast-growing, James Beard Award-winn...   \n",
       "1  Organised - Focused - Vibrant - Awesome!Do you...   \n",
       "2  Our client, located in Houston, is actively se...   \n",
       "3  THE COMPANY: ESRI – Environmental Systems Rese...   \n",
       "4  JOB TITLE: Itemization Review ManagerLOCATION:...   \n",
       "\n",
       "                                        requirements  \\\n",
       "0  Experience with content management systems a m...   \n",
       "1  What we expect from you:Your key responsibilit...   \n",
       "2  Implement pre-commissioning and commissioning ...   \n",
       "3  EDUCATION: Bachelor’s or Master’s in GIS, busi...   \n",
       "4  QUALIFICATIONS:RN license in the State of Texa...   \n",
       "\n",
       "                                            benefits employment_type  \\\n",
       "0                                                NaN           Other   \n",
       "1  What you will get from usThrough being part of...       Full-time   \n",
       "2                                                NaN             NaN   \n",
       "3  Our culture is anything but corporate—we have ...       Full-time   \n",
       "4                              Full Benefits Offered       Full-time   \n",
       "\n",
       "  required_experience required_education                   industry  \\\n",
       "0          Internship                NaN                        NaN   \n",
       "1      Not Applicable                NaN  Marketing and Advertising   \n",
       "2                 NaN                NaN                        NaN   \n",
       "3    Mid-Senior level  Bachelor's Degree          Computer Software   \n",
       "4    Mid-Senior level  Bachelor's Degree     Hospital & Health Care   \n",
       "\n",
       "               function  fraudulent  \n",
       "0             Marketing           0  \n",
       "1      Customer Service           0  \n",
       "2                   NaN           0  \n",
       "3                 Sales           0  \n",
       "4  Health Care Provider           0  "
      ]
     },
     "execution_count": 8,
     "metadata": {},
     "output_type": "execute_result"
    }
   ],
   "source": [
    "df.drop(['job_id' , 'salary_range' , 'telecommuting' , 'has_company_logo' , 'has_questions'] , axis = 1,inplace = True)\n",
    "df.head()"
   ]
  },
  {
   "cell_type": "code",
   "execution_count": 9,
   "id": "9e7470c1",
   "metadata": {},
   "outputs": [
    {
     "name": "stdout",
     "output_type": "stream",
     "text": [
      "0    0.951566\n",
      "1    0.048434\n",
      "Name: fraudulent, dtype: float64\n"
     ]
    }
   ],
   "source": [
    "# Check distribution of the target variable\n",
    "print(df['fraudulent'].value_counts(normalize=True))"
   ]
  },
  {
   "cell_type": "code",
   "execution_count": 10,
   "id": "caecd7f6",
   "metadata": {},
   "outputs": [
    {
     "data": {
      "image/png": "[encoded data removed]",
      "text/plain": [
       "<Figure size 432x288 with 1 Axes>"
      ]
     },
     "metadata": {
      "needs_background": "light"
     },
     "output_type": "display_data"
    }
   ],
   "source": [
    "plt.bar(['Not Fraudulent', 'Fraudulent'], df['fraudulent'].value_counts(normalize=True))\n",
    "plt.title('Distribution of Target Variable')\n",
    "plt.show()"
   ]
  },
  {
   "cell_type": "markdown",
   "id": "79df2794",
   "metadata": {},
   "source": [
    "# Step 2: Data cleaning and preparation"
   ]
  },
  {
   "cell_type": "code",
   "execution_count": 11,
   "id": "6a6074fb",
   "metadata": {},
   "outputs": [
    {
     "data": {
      "text/plain": [
       "title                  0\n",
       "location               0\n",
       "department             0\n",
       "company_profile        0\n",
       "description            0\n",
       "requirements           0\n",
       "benefits               0\n",
       "employment_type        0\n",
       "required_experience    0\n",
       "required_education     0\n",
       "industry               0\n",
       "function               0\n",
       "fraudulent             0\n",
       "dtype: int64"
      ]
     },
     "execution_count": 11,
     "metadata": {},
     "output_type": "execute_result"
    }
   ],
   "source": [
    "#Filling  missing values\n",
    "df.fillna(' ',inplace=True)\n",
    "#check for any missing values\n",
    "df.isnull().sum()"
   ]
  },
  {
   "cell_type": "code",
   "execution_count": 12,
   "id": "8cc4173b",
   "metadata": {},
   "outputs": [],
   "source": [
    "#remove duplicates\n",
    "df.drop_duplicates(inplace=True)"
   ]
  },
  {
   "cell_type": "code",
   "execution_count": 13,
   "id": "1a99360a",
   "metadata": {},
   "outputs": [
    {
     "data": {
      "text/plain": [
       "US    10445\n",
       "GB     2327\n",
       "GR      938\n",
       "CA      449\n",
       "DE      382\n",
       "        341\n",
       "NZ      330\n",
       "IN      273\n",
       "AU      213\n",
       "PH      132\n",
       "NL      126\n",
       "Name: country, dtype: int64"
      ]
     },
     "execution_count": 13,
     "metadata": {},
     "output_type": "execute_result"
    }
   ],
   "source": [
    "#Visualize Job postings by countries \n",
    "\n",
    "def split(location):\n",
    "  l =location.split(',')\n",
    "  return l[0]\n",
    "\n",
    "df['country'] =df.location.apply(split)  \n",
    "df['country'].nunique()\n",
    "df['country'].value_counts()[:11]"
   ]
  },
  {
   "cell_type": "code",
   "execution_count": 14,
   "id": "df40a47a",
   "metadata": {},
   "outputs": [
    {
     "data": {
      "image/png": "[encoded data removed]",
      "text/plain": [
       "<Figure size 576x432 with 1 Axes>"
      ]
     },
     "metadata": {},
     "output_type": "display_data"
    }
   ],
   "source": [
    "labels = 'Fake' ,'Real'\n",
    "\n",
    "sizes = [df.fraudulent[df['fraudulent'] == 1].count() ,df.fraudulent[df['fraudulent'] == 0].count()]\n",
    "explode =(0,0.1)\n",
    "\n",
    "fig1 ,ax1 = plt.subplots(figsize =(8,6))\n",
    "ax1.pie(sizes ,explode =explode, labels =labels, autopct ='%1.1f%%',startangle =180)\n",
    "\n",
    "ax1.axis('equal')\n",
    "plt.title(\"Proportion of Fraudulent Job Posting\" ,size =8)\n",
    "plt.show()"
   ]
  },
  {
   "cell_type": "code",
   "execution_count": 15,
   "id": "a5bcb5bb",
   "metadata": {},
   "outputs": [
    {
     "data": {
      "text/plain": [
       "Text(0, 0.5, 'Number of Jobs')"
      ]
     },
     "execution_count": 15,
     "metadata": {},
     "output_type": "execute_result"
    },
    {
     "data": {
      "image/png": "[encoded data removed]",
      "text/plain": [
       "<Figure size 576x288 with 1 Axes>"
      ]
     },
     "metadata": {
      "needs_background": "light"
     },
     "output_type": "display_data"
    }
   ],
   "source": [
    "country =dict(df.country.value_counts()[:11])\n",
    "\n",
    "del country[' ']\n",
    "plt.figure(figsize=(8,4))\n",
    "\n",
    "plt.title('Country-wise Job Posting',size=20)\n",
    "plt.bar(country.keys(),country.values())\n",
    "\n",
    "plt.xlabel('Name of Country')\n",
    "plt.ylabel('Number of Jobs')"
   ]
  },
  {
   "cell_type": "code",
   "execution_count": 16,
   "id": "4420ce48",
   "metadata": {},
   "outputs": [
    {
     "data": {
      "text/plain": [
       "Text(0, 0.5, 'Number of Jobs')"
      ]
     },
     "execution_count": 16,
     "metadata": {},
     "output_type": "execute_result"
    },
    {
     "data": {
      "image/png": "[encoded data removed]",
      "text/plain": [
       "<Figure size 576x288 with 1 Axes>"
      ]
     },
     "metadata": {
      "needs_background": "light"
     },
     "output_type": "display_data"
    }
   ],
   "source": [
    "# Visualize Job posting by Experience \n",
    "\n",
    "experience =dict(df.required_experience.value_counts()[:11])\n",
    "\n",
    "del experience[' ']\n",
    "plt.figure(figsize=(8,4))\n",
    "\n",
    "plt.title('Experience-wise Job Posting',size=15)\n",
    "plt.bar(experience.keys(),experience.values())\n",
    "\n",
    "plt.xlabel('Experience')\n",
    "plt.ylabel('Number of Jobs')"
   ]
  },
  {
   "cell_type": "code",
   "execution_count": 17,
   "id": "e02c839a",
   "metadata": {},
   "outputs": [
    {
     "data": {
      "text/plain": [
       "Text(0, 0.5, 'Number of Jobs')"
      ]
     },
     "execution_count": 17,
     "metadata": {},
     "output_type": "execute_result"
    },
    {
     "data": {
      "image/png": "[encoded data removed]",
      "text/plain": [
       "<Figure size 864x720 with 1 Axes>"
      ]
     },
     "metadata": {
      "needs_background": "light"
     },
     "output_type": "display_data"
    }
   ],
   "source": [
    "# Visualize Job posting by Department\n",
    "\n",
    "department1 =dict(df.department.value_counts()[:11])\n",
    "\n",
    "del department1[' ']\n",
    "plt.figure(figsize=(12,10))\n",
    "\n",
    "plt.title('Department-wise Job Posting',size=12) \n",
    "plt.bar(department1.keys(),department1.values())\n",
    "\n",
    "plt.xlabel('Department')\n",
    "plt.ylabel('Number of Jobs')"
   ]
  },
  {
   "cell_type": "code",
   "execution_count": 18,
   "id": "63c4941b",
   "metadata": {},
   "outputs": [
    {
     "data": {
      "text/plain": [
       "English Teacher Abroad                                309\n",
       "Graduates: English Teacher Abroad (Conversational)    144\n",
       "Customer Service Associate                            141\n",
       "English Teacher Abroad                                 94\n",
       "Software Engineer                                      86\n",
       "English Teacher Abroad (Conversational)                83\n",
       "Account Manager                                        74\n",
       "Customer Service Associate - Part Time                 72\n",
       "Web Developer                                          65\n",
       "Project Manager                                        60\n",
       "Graduates: English Teacher Abroad                      57\n",
       "Name: title, dtype: int64"
      ]
     },
     "execution_count": 18,
     "metadata": {},
     "output_type": "execute_result"
    }
   ],
   "source": [
    "#Finding fake job titles\n",
    "df.title.value_counts()[:11]"
   ]
  },
  {
   "cell_type": "code",
   "execution_count": 19,
   "id": "89b08c79",
   "metadata": {},
   "outputs": [
    {
     "data": {
      "text/plain": [
       "Home Based Payroll Typist/Data Entry Clerks Positions Available         20\n",
       "Cruise Staff Wanted *URGENT*                                            19\n",
       "Data Entry Admin/Clerical Positions - Work From Home                    18\n",
       "Customer Service Representative                                         17\n",
       "Administrative Assistant                                                16\n",
       "Home Based Payroll Data Entry Clerk Position - Earn $100-$200 Daily     12\n",
       "Account Sales Managers $80-$130,000/yr                                  10\n",
       "Network Marketing                                                       10\n",
       "Payroll Data Coordinator Positions - Earn $100-$200 Daily               10\n",
       "Data Entry                                                               9\n",
       "Agency Sales Managers $150-$175,000/yr                                   9\n",
       "Name: title, dtype: int64"
      ]
     },
     "execution_count": 19,
     "metadata": {},
     "output_type": "execute_result"
    }
   ],
   "source": [
    "df[df.fraudulent == 1].title.value_counts()[:11]"
   ]
  },
  {
   "cell_type": "code",
   "execution_count": 20,
   "id": "efc19182",
   "metadata": {},
   "outputs": [
    {
     "data": {
      "text/plain": [
       "English Teacher Abroad                                309\n",
       "Graduates: English Teacher Abroad (Conversational)    144\n",
       "Customer Service Associate                            141\n",
       "English Teacher Abroad                                 94\n",
       "Software Engineer                                      86\n",
       "English Teacher Abroad (Conversational)                83\n",
       "Account Manager                                        72\n",
       "Customer Service Associate - Part Time                 72\n",
       "Web Developer                                          65\n",
       "Project Manager                                        60\n",
       "Graduates: English Teacher Abroad                      57\n",
       "Name: title, dtype: int64"
      ]
     },
     "execution_count": 20,
     "metadata": {},
     "output_type": "execute_result"
    }
   ],
   "source": [
    "df[df.fraudulent == 0].title.value_counts()[:11]"
   ]
  },
  {
   "cell_type": "code",
   "execution_count": 21,
   "id": "c2411a7f",
   "metadata": {},
   "outputs": [
    {
     "data": {
      "text/plain": [
       "Index(['title', 'location', 'department', 'company_profile', 'description',\n",
       "       'requirements', 'benefits', 'employment_type', 'required_experience',\n",
       "       'required_education', 'industry', 'function', 'fraudulent', 'country'],\n",
       "      dtype='object')"
      ]
     },
     "execution_count": 21,
     "metadata": {},
     "output_type": "execute_result"
    }
   ],
   "source": [
    "df.columns"
   ]
  },
  {
   "cell_type": "code",
   "execution_count": 22,
   "id": "98df5fb1",
   "metadata": {},
   "outputs": [],
   "source": [
    "df['text'] = df['title'] + ' '+ df['location'] + ' ' + df['department'] + ' ' + df['company_profile'] + ' '+ df['description'] + ' ' + df['requirements'] + ' ' + df['benefits'] + ' ' + df['industry']\n",
    "\n",
    "del df['title']\n",
    "del df['location']\n",
    "del df['department']\n",
    "del df['company_profile']\n",
    "del df['description']\n",
    "del df['requirements']\n",
    "del df['benefits']\n",
    "del df['employment_type']\n",
    "del df['required_experience']\n",
    "del df['required_education']\n",
    "del df['industry']\n",
    "del df['function']\n",
    "del df['country']"
   ]
  },
  {
   "cell_type": "code",
   "execution_count": 23,
   "id": "1eb90a8b",
   "metadata": {},
   "outputs": [
    {
     "data": {
      "text/html": [
       "<div>\n",
       "<style scoped>\n",
       "    .dataframe tbody tr th:only-of-type {\n",
       "        vertical-align: middle;\n",
       "    }\n",
       "\n",
       "    .dataframe tbody tr th {\n",
       "        vertical-align: top;\n",
       "    }\n",
       "\n",
       "    .dataframe thead th {\n",
       "        text-align: right;\n",
       "    }\n",
       "</style>\n",
       "<table border=\"1\" class=\"dataframe\">\n",
       "  <thead>\n",
       "    <tr style=\"text-align: right;\">\n",
       "      <th></th>\n",
       "      <th>fraudulent</th>\n",
       "      <th>text</th>\n",
       "    </tr>\n",
       "  </thead>\n",
       "  <tbody>\n",
       "    <tr>\n",
       "      <th>0</th>\n",
       "      <td>0</td>\n",
       "      <td>Marketing Intern US, NY, New York Marketing We...</td>\n",
       "    </tr>\n",
       "    <tr>\n",
       "      <th>1</th>\n",
       "      <td>0</td>\n",
       "      <td>Customer Service - Cloud Video Production NZ, ...</td>\n",
       "    </tr>\n",
       "    <tr>\n",
       "      <th>2</th>\n",
       "      <td>0</td>\n",
       "      <td>Commissioning Machinery Assistant (CMA) US, IA...</td>\n",
       "    </tr>\n",
       "    <tr>\n",
       "      <th>3</th>\n",
       "      <td>0</td>\n",
       "      <td>Account Executive - Washington DC US, DC, Wash...</td>\n",
       "    </tr>\n",
       "    <tr>\n",
       "      <th>4</th>\n",
       "      <td>0</td>\n",
       "      <td>Bill Review Manager US, FL, Fort Worth   SpotS...</td>\n",
       "    </tr>\n",
       "  </tbody>\n",
       "</table>\n",
       "</div>"
      ],
      "text/plain": [
       "   fraudulent                                               text\n",
       "0           0  Marketing Intern US, NY, New York Marketing We...\n",
       "1           0  Customer Service - Cloud Video Production NZ, ...\n",
       "2           0  Commissioning Machinery Assistant (CMA) US, IA...\n",
       "3           0  Account Executive - Washington DC US, DC, Wash...\n",
       "4           0  Bill Review Manager US, FL, Fort Worth   SpotS..."
      ]
     },
     "execution_count": 23,
     "metadata": {},
     "output_type": "execute_result"
    }
   ],
   "source": [
    "df.head()"
   ]
  },
  {
   "cell_type": "code",
   "execution_count": 24,
   "id": "1eaa6b48",
   "metadata": {},
   "outputs": [],
   "source": [
    "#word frequency\n",
    "fake_post = ' '.join([text for text in df['text'][df['fraudulent'] == 1]])\n",
    "\n",
    "real_post = ' '.join([text for text in df['text'][df['fraudulent']==0]])"
   ]
  },
  {
   "cell_type": "code",
   "execution_count": 25,
   "id": "dbe9e2ad",
   "metadata": {},
   "outputs": [
    {
     "name": "stdout",
     "output_type": "stream",
     "text": [
      "['i', 'me', 'my', 'myself', 'we', 'our', 'ours', 'ourselves', 'you', \"you're\", \"you've\", \"you'll\", \"you'd\", 'your', 'yours', 'yourself', 'yourselves', 'he', 'him', 'his', 'himself', 'she', \"she's\", 'her', 'hers', 'herself', 'it', \"it's\", 'its', 'itself', 'they', 'them', 'their', 'theirs', 'themselves', 'what', 'which', 'who', 'whom', 'this', 'that', \"that'll\", 'these', 'those', 'am', 'is', 'are', 'was', 'were', 'be', 'been', 'being', 'have', 'has', 'had', 'having', 'do', 'does', 'did', 'doing', 'a', 'an', 'the', 'and', 'but', 'if', 'or', 'because', 'as', 'until', 'while', 'of', 'at', 'by', 'for', 'with', 'about', 'against', 'between', 'into', 'through', 'during', 'before', 'after', 'above', 'below', 'to', 'from', 'up', 'down', 'in', 'out', 'on', 'off', 'over', 'under', 'again', 'further', 'then', 'once', 'here', 'there', 'when', 'where', 'why', 'how', 'all', 'any', 'both', 'each', 'few', 'more', 'most', 'other', 'some', 'such', 'no', 'nor', 'not', 'only', 'own', 'same', 'so', 'than', 'too', 'very', 's', 't', 'can', 'will', 'just', 'don', \"don't\", 'should', \"should've\", 'now', 'd', 'll', 'm', 'o', 're', 've', 'y', 'ain', 'aren', \"aren't\", 'couldn', \"couldn't\", 'didn', \"didn't\", 'doesn', \"doesn't\", 'hadn', \"hadn't\", 'hasn', \"hasn't\", 'haven', \"haven't\", 'isn', \"isn't\", 'ma', 'mightn', \"mightn't\", 'mustn', \"mustn't\", 'needn', \"needn't\", 'shan', \"shan't\", 'shouldn', \"shouldn't\", 'wasn', \"wasn't\", 'weren', \"weren't\", 'won', \"won't\", 'wouldn', \"wouldn't\"]\n"
     ]
    }
   ],
   "source": [
    "import nltk\n",
    "# nltk.download('stopwords')\n",
    "\n",
    "from nltk.corpus import stopwords\n",
    "print(stopwords.words(\"english\"))"
   ]
  },
  {
   "cell_type": "code",
   "execution_count": 26,
   "id": "11c285e6",
   "metadata": {},
   "outputs": [],
   "source": [
    "stop_words = set(stopwords.words(\"english\"))"
   ]
  },
  {
   "cell_type": "code",
   "execution_count": 27,
   "id": "ee78e207",
   "metadata": {},
   "outputs": [],
   "source": [
    "df['text'] = df['text'].apply(lambda x:x.lower())"
   ]
  },
  {
   "cell_type": "code",
   "execution_count": 28,
   "id": "36d8aee1",
   "metadata": {},
   "outputs": [],
   "source": [
    "df['text'] = df['text'].apply(lambda x:' '.join([word for word in x.split() if word not in(stop_words)]))"
   ]
  },
  {
   "cell_type": "code",
   "execution_count": 29,
   "id": "e0e3601d",
   "metadata": {},
   "outputs": [
    {
     "data": {
      "text/plain": [
       "\"marketing intern us, ny, new york marketing we're food52, we've created groundbreaking award-winning cooking site. support, connect, celebrate home cooks, give everything need one place.we top editorial, business, engineering team. we're focused using technology find new better ways connect people around specific food interests, offer superb, highly curated information food cooking. attract talented home cooks contributors country; also publish well-known professionals like mario batali, gwyneth paltrow, danny meyer. partnerships whole foods market random house.food52 named best food website james beard foundation iacp, featured new york times, npr, pando daily, techcrunch, today show.we're located chelsea, new york city. food52, fast-growing, james beard award-winning online food community crowd-sourced curated recipe hub, currently interviewing full- part-time unpaid interns work small team editors, executives, developers new york city headquarters.reproducing and/or repackaging existing food52 content number partner sites, huffington post, yahoo, buzzfeed, various content management systemsresearching blogs websites provisions food52 affiliate programassisting day-to-day affiliate program support, screening affiliates assisting affiliate inquiriessupporting pr &amp; events neededhelping office administrative work, filing, mailing, preparing meetingsworking developers document bugs suggest improvements sitesupporting marketing executive staff experience content management systems major plus (any blogging counts!)familiar food52 editorial voice aestheticloves food, appreciates importance home cooking cooking seasonsmeticulous editor, perfectionist, obsessive attention detail, maddened typos broken links, delighted finding fixing themcheerful pressureexcellent communication skillsa+ multi-tasker juggler responsibilities big smallinterested engaged social media like twitter, facebook, pinterestloves problem-solving collaborating drive food52 forwardthinks big picture pitches nitty gritty running small company (dishes, shopping, administrative support)comfortable realities working startup: call evenings weekends, working long hours\""
      ]
     },
     "execution_count": 29,
     "metadata": {},
     "output_type": "execute_result"
    }
   ],
   "source": [
    "df['text'][0]"
   ]
  },
  {
   "cell_type": "markdown",
   "id": "5c650859",
   "metadata": {},
   "source": [
    "# Step 3: Train Test Split"
   ]
  },
  {
   "cell_type": "code",
   "execution_count": 30,
   "id": "1540fcc6",
   "metadata": {},
   "outputs": [],
   "source": [
    "from sklearn.model_selection import train_test_split\n",
    "\n",
    "X_train,X_test ,y_train,y_test = train_test_split(df.text, df.fraudulent ,test_size =0.3, random_state=42)"
   ]
  },
  {
   "cell_type": "code",
   "execution_count": 31,
   "id": "68b2cf09",
   "metadata": {},
   "outputs": [
    {
     "data": {
      "text/plain": [
       "CountVectorizer()"
      ]
     },
     "execution_count": 31,
     "metadata": {},
     "output_type": "execute_result"
    }
   ],
   "source": [
    "from sklearn.feature_extraction.text import CountVectorizer\n",
    "vect = CountVectorizer()\n",
    "vect.fit(X_train)"
   ]
  },
  {
   "cell_type": "code",
   "execution_count": 32,
   "id": "0529665c",
   "metadata": {
    "scrolled": true
   },
   "outputs": [
    {
     "data": {
      "text/plain": [
       "<12306x86282 sparse matrix of type '<class 'numpy.int64'>'\n",
       "\twith 2286891 stored elements in Compressed Sparse Row format>"
      ]
     },
     "execution_count": 32,
     "metadata": {},
     "output_type": "execute_result"
    }
   ],
   "source": [
    "# Convert the text data into vector format \n",
    "X_train_dtm = vect.transform(X_train)\n",
    "X_train_dtm"
   ]
  },
  {
   "cell_type": "code",
   "execution_count": 33,
   "id": "52799599",
   "metadata": {},
   "outputs": [
    {
     "data": {
      "text/plain": [
       "<5275x86282 sparse matrix of type '<class 'numpy.int64'>'\n",
       "\twith 955864 stored elements in Compressed Sparse Row format>"
      ]
     },
     "execution_count": 33,
     "metadata": {},
     "output_type": "execute_result"
    }
   ],
   "source": [
    "X_test_dtm = vect.transform(X_test)\n",
    "X_test_dtm"
   ]
  },
  {
   "cell_type": "markdown",
   "id": "62c3fc05",
   "metadata": {},
   "source": [
    "# Step 4: Model Selection and Training"
   ]
  },
  {
   "cell_type": "markdown",
   "id": "bdf0a0bc",
   "metadata": {},
   "source": [
    "### 1.Naive Bayes Classifier "
   ]
  },
  {
   "cell_type": "code",
   "execution_count": 34,
   "id": "1411be68",
   "metadata": {},
   "outputs": [],
   "source": [
    "from sklearn.naive_bayes import  MultinomialNB"
   ]
  },
  {
   "cell_type": "code",
   "execution_count": 35,
   "id": "9ae7fdf3",
   "metadata": {},
   "outputs": [
    {
     "data": {
      "text/plain": [
       "MultinomialNB()"
      ]
     },
     "execution_count": 35,
     "metadata": {},
     "output_type": "execute_result"
    }
   ],
   "source": [
    "nb = MultinomialNB()\n",
    "nb.fit(X_train_dtm, y_train)"
   ]
  },
  {
   "cell_type": "code",
   "execution_count": 37,
   "id": "d95a219b",
   "metadata": {},
   "outputs": [
    {
     "name": "stdout",
     "output_type": "stream",
     "text": [
      "Accuracy score for Naive Bayes: 97.25 %\n"
     ]
    }
   ],
   "source": [
    "from sklearn.metrics import accuracy_score ,confusion_matrix, precision_score, recall_score, f1_score\n",
    "\n",
    "y_pred_nb = nb.predict(X_test_dtm)\n",
    "accuracy = accuracy_score(y_test, y_pred_nb)\n",
    "rounded_accuracy = round(accuracy * 100, 2)\n",
    "print('Accuracy score for Naive Bayes:', rounded_accuracy,'%')"
   ]
  },
  {
   "cell_type": "markdown",
   "id": "58d19f8e",
   "metadata": {},
   "source": [
    "### 2.Decision Tree Classifier"
   ]
  },
  {
   "cell_type": "code",
   "execution_count": 38,
   "id": "afc22767",
   "metadata": {},
   "outputs": [],
   "source": [
    "from sklearn.tree import DecisionTreeClassifier"
   ]
  },
  {
   "cell_type": "code",
   "execution_count": 39,
   "id": "a5ea60d9",
   "metadata": {},
   "outputs": [
    {
     "data": {
      "text/plain": [
       "DecisionTreeClassifier()"
      ]
     },
     "execution_count": 39,
     "metadata": {},
     "output_type": "execute_result"
    }
   ],
   "source": [
    "dt = DecisionTreeClassifier()\n",
    "dt.fit(X_train_dtm,y_train)"
   ]
  },
  {
   "cell_type": "code",
   "execution_count": 40,
   "id": "14da4648",
   "metadata": {},
   "outputs": [
    {
     "name": "stdout",
     "output_type": "stream",
     "text": [
      "Accuracy score for Decision Tree: 97.91 %\n"
     ]
    }
   ],
   "source": [
    "y_pred_dt = dt.predict(X_test_dtm)\n",
    "accuracy = accuracy_score(y_test, y_pred_dt)\n",
    "rounded_accuracy = round(accuracy * 100, 2)\n",
    "print('Accuracy score for Decision Tree:', rounded_accuracy,'%')"
   ]
  },
  {
   "cell_type": "code",
   "execution_count": 41,
   "id": "749b7281",
   "metadata": {},
   "outputs": [
    {
     "data": {
      "text/plain": [
       "'editor, digital business publication & website us, ca, carlsbad wdm group innovative, forward thinking digital company aimed bringing business executives up-to-date latest news, information trends across globe.aimed informing, engaging, educating interacting business executives world over, wdm group’s products takes in-depth look inter-country relations, trade tourism, prominent industries, success stories lessons learned business.with physical presence many world’s largest economies, wdm group abreast news developments occurring around clock. aim keep ears ground fingers pulse bring busy executives breakdown biggest interesting updates across world’s largest influential territories industries.with wdm group don’t read news, make it. wdm group, pioneer digital magazines web portals since 2007 currently seeking hire proven, experienced dedicated editor carlsbad office situated centerpoint plaza, great ‘reverse commute’ location 5 minutes east i5 palomar airport rd exit. position support one innovative online business publications. ideal candidate would least 3-years experience editor would background journalism / online publishing. person must experience working tight deadline, maintaining excellent standards editorial content. experience online marketing social media seo best practice. candidate must organized must excellent written verbal communication skills. responsible production business publication website month entirety, expected write least five articles per day. hours: 8.30am – 5.30pm monday - friday wdm group’s us hq opened carlsbad 2008 strategically placed give specific territory coverage company’s leading titles across us, australia, asia, latin america brazil importantly give insights global ‘best practice’ case studies companies working within construction, manufacturing, energy, healthcare, food &amp; drink, supply chain, technology retail. carlsbad team great success bringing world-wide coverage companies global stage range leading industry based digital magazines websites.please submit cover letter, resume two writing samples. excellent written verbal communication skillsexperience working tight deadlinesjournalism experiencemanagement skillsexcellent time managementa good knowledge social media online marketingan understanding seo best practice offer great working environment, health, dental life insurance benefits, pto well additional paid holidays.'"
      ]
     },
     "execution_count": 41,
     "metadata": {},
     "output_type": "execute_result"
    }
   ],
   "source": [
    "X_test.iloc[159]"
   ]
  },
  {
   "cell_type": "markdown",
   "id": "a40dbb40",
   "metadata": {},
   "source": [
    "### 3.Logistic Regression"
   ]
  },
  {
   "cell_type": "code",
   "execution_count": 42,
   "id": "ebbf9c75",
   "metadata": {},
   "outputs": [
    {
     "data": {
      "text/plain": [
       "LogisticRegression(max_iter=10000)"
      ]
     },
     "execution_count": 42,
     "metadata": {},
     "output_type": "execute_result"
    }
   ],
   "source": [
    "from sklearn.linear_model import LogisticRegression\n",
    "lr = LogisticRegression(max_iter=10000)\n",
    "lr.fit(X_train_dtm, y_train)"
   ]
  },
  {
   "cell_type": "code",
   "execution_count": 43,
   "id": "6b1ffd5b",
   "metadata": {},
   "outputs": [
    {
     "name": "stdout",
     "output_type": "stream",
     "text": [
      "Accuracy score for Logistic Regression: 98.33 %\n"
     ]
    }
   ],
   "source": [
    "y_pred_lr = lr.predict(X_test_dtm) \n",
    "accuracy = accuracy_score(y_test, y_pred_lr)\n",
    "rounded_accuracy = round(accuracy * 100, 2)\n",
    "print('Accuracy score for Logistic Regression:', rounded_accuracy,'%')"
   ]
  },
  {
   "cell_type": "code",
   "execution_count": 44,
   "id": "785d715e",
   "metadata": {},
   "outputs": [
    {
     "name": "stdout",
     "output_type": "stream",
     "text": [
      "Logistic Regression:\n",
      "Accuracy: 98.33%\n",
      "Precision: 91.94%\n",
      "Recall: 73.21%\n",
      "F1_score: 81.51%\n"
     ]
    }
   ],
   "source": [
    "accuracy = accuracy_score(y_test, y_pred_lr)\n",
    "precision = precision_score(y_test, y_pred_lr)\n",
    "recall = recall_score(y_test, y_pred_lr)\n",
    "f1 = f1_score(y_test, y_pred_lr)\n",
    "\n",
    "rounded_accuracy = round(accuracy * 100, 2)\n",
    "rounded_precision = round(precision * 100, 2)\n",
    "rounded_recall = round(recall* 100, 2)\n",
    "rounded_f1 = round(f1 * 100, 2)\n",
    "\n",
    "print('Logistic Regression:')\n",
    "print(f'Accuracy: {rounded_accuracy}%')\n",
    "print(f'Precision: {rounded_precision}%')\n",
    "print(f'Recall: {rounded_recall}%')\n",
    "print(f'F1_score: {rounded_f1}%')"
   ]
  },
  {
   "cell_type": "code",
   "execution_count": 45,
   "id": "1001aeb7",
   "metadata": {},
   "outputs": [
    {
     "name": "stdout",
     "output_type": "stream",
     "text": [
      "Decision Tree Classifier:\n",
      "Accuracy: 97.91%\n",
      "Precision: 85.07%\n",
      "Recall: 70.94%\n",
      "F1_score: 77.37%\n"
     ]
    }
   ],
   "source": [
    "accuracy = accuracy_score(y_test, y_pred_dt)\n",
    "precision = precision_score(y_test, y_pred_dt)\n",
    "recall = recall_score(y_test, y_pred_dt)\n",
    "f1 = f1_score(y_test, y_pred_dt)\n",
    "\n",
    "rounded_accuracy = round(accuracy * 100, 2)\n",
    "rounded_precision = round(precision * 100, 2)\n",
    "rounded_recall = round(recall* 100, 2)\n",
    "rounded_f1 = round(f1 * 100, 2)\n",
    "\n",
    "print('Decision Tree Classifier:')\n",
    "print(f'Accuracy: {rounded_accuracy}%')\n",
    "print(f'Precision: {rounded_precision}%')\n",
    "print(f'Recall: {rounded_recall}%')\n",
    "print(f'F1_score: {rounded_f1}%')"
   ]
  },
  {
   "cell_type": "code",
   "execution_count": 46,
   "id": "4b6baad0",
   "metadata": {},
   "outputs": [
    {
     "name": "stdout",
     "output_type": "stream",
     "text": [
      "Naive Bayes Classifier:\n",
      "Accuracy: 97.25%\n",
      "Precision: 87.5%\n",
      "Recall: 52.83%\n",
      "F1_score: 65.88%\n"
     ]
    }
   ],
   "source": [
    "accuracy = accuracy_score(y_test, y_pred_nb)\n",
    "precision = precision_score(y_test, y_pred_nb)\n",
    "recall = recall_score(y_test, y_pred_nb)\n",
    "f1 = f1_score(y_test, y_pred_nb)\n",
    "\n",
    "rounded_accuracy = round(accuracy * 100, 2)\n",
    "rounded_precision = round(precision * 100, 2)\n",
    "rounded_recall = round(recall* 100, 2)\n",
    "rounded_f1 = round(f1 * 100, 2)\n",
    "\n",
    "print('Naive Bayes Classifier:')\n",
    "print(f'Accuracy: {rounded_accuracy}%')\n",
    "print(f'Precision: {rounded_precision}%')\n",
    "print(f'Recall: {rounded_recall}%')\n",
    "print(f'F1_score: {rounded_f1}%')"
   ]
  },
  {
   "cell_type": "markdown",
   "id": "a29d1213",
   "metadata": {},
   "source": [
    "### 4.Support Vector Machine Algorithm"
   ]
  },
  {
   "cell_type": "code",
   "execution_count": 47,
   "id": "3fb1be2b",
   "metadata": {},
   "outputs": [
    {
     "data": {
      "text/plain": [
       "SVC()"
      ]
     },
     "execution_count": 47,
     "metadata": {},
     "output_type": "execute_result"
    }
   ],
   "source": [
    "from sklearn.svm import SVC\n",
    "\n",
    "svm = SVC()\n",
    "svm.fit(X_train_dtm,y_train)"
   ]
  },
  {
   "cell_type": "code",
   "execution_count": 48,
   "id": "6b40a2b6",
   "metadata": {},
   "outputs": [
    {
     "name": "stdout",
     "output_type": "stream",
     "text": [
      "Accuracy score for svm: 97.21 %\n"
     ]
    }
   ],
   "source": [
    "y_pred_svm = svm.predict(X_test_dtm)\n",
    "accuracy = accuracy_score(y_test, y_pred_svm)\n",
    "rounded_accuracy = round(accuracy * 100, 2)\n",
    "print('Accuracy score for svm:', rounded_accuracy,'%')"
   ]
  },
  {
   "cell_type": "code",
   "execution_count": 49,
   "id": "e63c1e79",
   "metadata": {},
   "outputs": [
    {
     "name": "stdout",
     "output_type": "stream",
     "text": [
      "Support Vector Machine:\n",
      "Accuracy: 97.21%\n",
      "Precision: 98.36%\n",
      "Recall: 45.28%\n",
      "F1_score: 62.02%\n"
     ]
    }
   ],
   "source": [
    "accuracy = accuracy_score(y_test, y_pred_svm)\n",
    "precision = precision_score(y_test, y_pred_svm)\n",
    "recall = recall_score(y_test, y_pred_svm)\n",
    "f1 = f1_score(y_test, y_pred_svm)\n",
    "\n",
    "rounded_accuracy = round(accuracy * 100, 2)\n",
    "rounded_precision = round(precision * 100, 2)\n",
    "rounded_recall = round(recall* 100, 2)\n",
    "rounded_f1 = round(f1 * 100, 2)\n",
    "\n",
    "print('Support Vector Machine:')\n",
    "print(f'Accuracy: {rounded_accuracy}%')\n",
    "print(f'Precision: {rounded_precision}%')\n",
    "print(f'Recall: {rounded_recall}%')\n",
    "print(f'F1_score: {rounded_f1}%')"
   ]
  },
  {
   "cell_type": "markdown",
   "id": "4855be03",
   "metadata": {},
   "source": [
    "### 5.Random Forest Classifier"
   ]
  },
  {
   "cell_type": "code",
   "execution_count": 50,
   "id": "ec421e29",
   "metadata": {},
   "outputs": [
    {
     "data": {
      "text/plain": [
       "RandomForestClassifier()"
      ]
     },
     "execution_count": 50,
     "metadata": {},
     "output_type": "execute_result"
    }
   ],
   "source": [
    "from sklearn.ensemble import RandomForestClassifier\n",
    "\n",
    "rfm = RandomForestClassifier()\n",
    "rfm.fit(X_train_dtm,y_train)"
   ]
  },
  {
   "cell_type": "code",
   "execution_count": 51,
   "id": "98d73d77",
   "metadata": {},
   "outputs": [
    {
     "name": "stdout",
     "output_type": "stream",
     "text": [
      "Accuracy score for rfm: 97.88 %\n"
     ]
    }
   ],
   "source": [
    "y_pred_rfm = rfm.predict(X_test_dtm)\n",
    "accuracy = accuracy_score(y_test, y_pred_rfm)\n",
    "rounded_accuracy = round(accuracy * 100, 2)\n",
    "print('Accuracy score for rfm:', rounded_accuracy,'%')"
   ]
  },
  {
   "cell_type": "code",
   "execution_count": 52,
   "id": "ec0c79e2",
   "metadata": {},
   "outputs": [
    {
     "name": "stdout",
     "output_type": "stream",
     "text": [
      "Random Forest Classifier:\n",
      "Accuracy: 97.88%\n",
      "Precision: 99.35%\n",
      "Recall: 58.11%\n",
      "F1_score: 73.33%\n"
     ]
    }
   ],
   "source": [
    "accuracy = accuracy_score(y_test, y_pred_rfm)\n",
    "precision = precision_score(y_test, y_pred_rfm)\n",
    "recall = recall_score(y_test, y_pred_rfm)\n",
    "f1 = f1_score(y_test, y_pred_rfm)\n",
    "\n",
    "rounded_accuracy = round(accuracy * 100, 2)\n",
    "rounded_precision = round(precision * 100, 2)\n",
    "rounded_recall = round(recall* 100, 2)\n",
    "rounded_f1 = round(f1 * 100, 2)\n",
    "\n",
    "print('Random Forest Classifier:')\n",
    "print(f'Accuracy: {rounded_accuracy}%')\n",
    "print(f'Precision: {rounded_precision}%')\n",
    "print(f'Recall: {rounded_recall}%')\n",
    "print(f'F1_score: {rounded_f1}%')"
   ]
  },
  {
   "cell_type": "markdown",
   "id": "671c5451",
   "metadata": {},
   "source": [
    "## Evaluation metrics\n",
    "\n",
    "### Logistic Regression:\n",
    "Accuracy: 98.33%\n",
    "Precision: 91.94%\n",
    "Recall: 73.21%\n",
    "F1_score: 81.51%\n",
    "\n",
    "### Decision Tree Classifier:\n",
    "Accuracy: 97.91%\n",
    "Precision: 85.07%\n",
    "Recall: 70.94%\n",
    "F1_score: 77.37%\n",
    "\n",
    "\n",
    "### Random Forest Classifier:\n",
    "Accuracy: 97.88%\n",
    "Precision: 99.35%\n",
    "Recall: 58.11%\n",
    "F1_score: 73.33%\n",
    "\n",
    "### Naive Bayes Classifier:\n",
    "Accuracy: 97.25%\n",
    "Precision: 87.5%\n",
    "Recall: 52.83%\n",
    "F1_score: 65.88%\n",
    "\n",
    "### Support Vector Machine:\n",
    "Accuracy: 97.21%\n",
    "Precision: 98.36%\n",
    "Recall: 45.28%\n",
    "F1_score: 62.02%"
   ]
  },
  {
   "cell_type": "markdown",
   "id": "eacd5d28",
   "metadata": {},
   "source": [
    "## Recall scores\n",
    "#### Naive Bayes = 52.83%\n",
    "#### Decision tree = 70.94%\n",
    "#### SVM = 45.28%\n",
    "#### Logistic Regression = 73.21%\n",
    "#### Random Forest Classifier = 58.11%\n",
    "\n",
    "## Considering accuracy and recall score,Logistic regression performs better than the rest\n",
    "For the given problem at hand, recall_score is the metric considered more than the rest because it is crucial to identify as many fraudulent job postings as possible even if it means having some false positives. It also helps us to minimize the false negatives which means reducing the chances of missing fraudulent activities."
   ]
  },
  {
   "cell_type": "markdown",
   "id": "a214b8c5",
   "metadata": {},
   "source": [
    "# Step 5: Fine tuning Hyperparameters"
   ]
  },
  {
   "cell_type": "code",
   "execution_count": 53,
   "id": "e5aa0d65",
   "metadata": {},
   "outputs": [],
   "source": [
    "from sklearn.linear_model import LogisticRegression\n",
    "from sklearn.model_selection import GridSearchCV\n",
    "\n",
    "logreg = LogisticRegression(max_iter=10000)"
   ]
  },
  {
   "cell_type": "code",
   "execution_count": 54,
   "id": "82cd562c",
   "metadata": {},
   "outputs": [],
   "source": [
    "# Defining the hyperparameter grid for tuning\n",
    "param_grid = {\n",
    "    'penalty': ['l1', 'l2'],\n",
    "    'C': [0.1, 1, 10, 100],\n",
    "    'solver': ['liblinear', 'lbfgs']\n",
    "}"
   ]
  },
  {
   "cell_type": "code",
   "execution_count": 59,
   "id": "8dacf34c",
   "metadata": {},
   "outputs": [
    {
     "name": "stderr",
     "output_type": "stream",
     "text": [
      "C:\\Users\\USER\\anaconda3\\lib\\site-packages\\sklearn\\model_selection\\_validation.py:372: FitFailedWarning: \n",
      "24 fits failed out of a total of 96.\n",
      "The score on these train-test partitions for these parameters will be set to nan.\n",
      "If these failures are not expected, you can try to debug them by setting error_score='raise'.\n",
      "\n",
      "Below are more details about the failures:\n",
      "--------------------------------------------------------------------------------\n",
      "24 fits failed with the following error:\n",
      "Traceback (most recent call last):\n",
      "  File \"C:\\Users\\USER\\anaconda3\\lib\\site-packages\\sklearn\\model_selection\\_validation.py\", line 680, in _fit_and_score\n",
      "    estimator.fit(X_train, y_train, **fit_params)\n",
      "  File \"C:\\Users\\USER\\anaconda3\\lib\\site-packages\\sklearn\\linear_model\\_logistic.py\", line 1461, in fit\n",
      "    solver = _check_solver(self.solver, self.penalty, self.dual)\n",
      "  File \"C:\\Users\\USER\\anaconda3\\lib\\site-packages\\sklearn\\linear_model\\_logistic.py\", line 447, in _check_solver\n",
      "    raise ValueError(\n",
      "ValueError: Solver lbfgs supports only 'l2' or 'none' penalties, got l1 penalty.\n",
      "\n",
      "  warnings.warn(some_fits_failed_message, FitFailedWarning)\n",
      "C:\\Users\\USER\\anaconda3\\lib\\site-packages\\sklearn\\model_selection\\_search.py:969: UserWarning: One or more of the test scores are non-finite: [0.47301244        nan 0.68480726 0.67630385 0.72720401        nan\n",
      " 0.72036693 0.71359857 0.74244142        nan 0.73057102 0.72546898\n",
      " 0.76948052        nan 0.73223734 0.73562152]\n",
      "  warnings.warn(\n"
     ]
    },
    {
     "data": {
      "text/plain": [
       "GridSearchCV(cv=6, estimator=LogisticRegression(max_iter=10000),\n",
       "             param_grid={'C': [0.1, 1, 10, 100], 'penalty': ['l1', 'l2'],\n",
       "                         'solver': ['liblinear', 'lbfgs']},\n",
       "             scoring='recall')"
      ]
     },
     "execution_count": 59,
     "metadata": {},
     "output_type": "execute_result"
    }
   ],
   "source": [
    "# Performing grid search with cross-validation\n",
    "grid_search = GridSearchCV(estimator=logreg, param_grid=param_grid, scoring='recall', cv=6)\n",
    "grid_search.fit(X_train_dtm, y_train)"
   ]
  },
  {
   "cell_type": "code",
   "execution_count": 60,
   "id": "fc3c437e",
   "metadata": {},
   "outputs": [
    {
     "name": "stdout",
     "output_type": "stream",
     "text": [
      "Best model: LogisticRegression(C=100, max_iter=10000, penalty='l1', solver='liblinear')\n",
      "Best Hyperparameters: {'C': 100, 'penalty': 'l1', 'solver': 'liblinear'}\n",
      "Best score: 0.7694805194805195\n"
     ]
    }
   ],
   "source": [
    "# Get the best model and its hyperparameters\n",
    "best_model = grid_search.best_estimator_\n",
    "best_params = grid_search.best_params_\n",
    "best_score = grid_search.best_score_\n",
    "\n",
    "print(\"Best model:\", best_model)\n",
    "print(\"Best Hyperparameters:\", best_params)\n",
    "print(\"Best score:\", best_score)\n"
   ]
  },
  {
   "cell_type": "code",
   "execution_count": 61,
   "id": "274ead0f",
   "metadata": {},
   "outputs": [
    {
     "name": "stdout",
     "output_type": "stream",
     "text": [
      "Accuracy: 98.29%\n",
      "Precision: 89.59%\n",
      "Recall: 74.72%\n",
      "F1_score: 81.48%\n"
     ]
    }
   ],
   "source": [
    "# Evaluation metrics for the best model on the test set\n",
    "y_pred = best_model.predict(X_test_dtm)\n",
    "accuracy = accuracy_score(y_test, y_pred)\n",
    "precision = precision_score(y_test, y_pred)\n",
    "recall = recall_score(y_test, y_pred)\n",
    "f1 = f1_score(y_test, y_pred)\n",
    "\n",
    "rounded_accuracy = round(accuracy * 100, 2)\n",
    "rounded_precision = round(precision * 100, 2)\n",
    "rounded_recall = round(recall* 100, 2)\n",
    "rounded_f1 = round(f1 * 100, 2)\n",
    "\n",
    "print(f'Accuracy: {rounded_accuracy}%')\n",
    "print(f'Precision: {rounded_precision}%')\n",
    "print(f'Recall: {rounded_recall}%')\n",
    "print(f'F1_score: {rounded_f1}%')\n",
    "best_model_score = best_model.score(X_test_dtm, y_test)"
   ]
  },
  {
   "cell_type": "markdown",
   "id": "0e6221e2",
   "metadata": {},
   "source": [
    "## Final report about the results\n",
    "\n",
    "The tuned model has an overall correctness(accuracy) of 98.29% and the recall score (senstivity rate) is 74.72%. This high recall_score indicates that the model is effective at capturing a large proportion of the actual positive samples in the dataset.The high level of accuracy achieved by the model indicates that it correctly predicted majority of the samples in the dataset. While achieving high accuracy is desirable, it is also important to have a reasonable level of recall to ensure the model can effectively identify positive cases."
   ]
  },
  {
   "cell_type": "markdown",
   "id": "6b2461bd",
   "metadata": {},
   "source": [
    "# Group members\n",
    "\n",
    "### KYOBE GEOFREY KIMULI - 2100716219 - 21/U/16219/EVE\n",
    "### KAMUSIIME DAISY - 21007095950 - 21/U/05950/EVE\n",
    "### NATUHWERA FRANCIS - 2100707319 - 21/U/07319/EVE\n",
    "### KEMBABAZI SANDRA AINE - 2100712149 - 21/U/12149/PS\n",
    "### MCJORDAN BISMARK - 2100705192 - 21/U/05192/EVE"
   ]
  },
  {
   "cell_type": "code",
   "execution_count": null,
   "id": "b52edf34",
   "metadata": {},
   "outputs": [],
   "source": []
  }
 ],
 "metadata": {
  "kernelspec": {
   "display_name": "Python 3 (ipykernel)",
   "language": "python",
   "name": "python3"
  },
  "language_info": {
   "codemirror_mode": {
    "name": "ipython",
    "version": 3
   },
   "file_extension": ".py",
   "mimetype": "text/x-python",
   "name": "python",
   "nbconvert_exporter": "python",
   "pygments_lexer": "ipython3",
   "version": "3.9.12"
  }
 },
 "nbformat": 4,
 "nbformat_minor": 5
}
